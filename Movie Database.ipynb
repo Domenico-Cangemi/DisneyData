{
 "cells": [
  {
   "cell_type": "markdown",
   "id": "848c287d-358e-4d69-930f-9c8bdd14c2cb",
   "metadata": {},
   "source": [
    "# Database Film Disney"
   ]
  },
  {
   "cell_type": "markdown",
   "id": "d787f2e5-742c-4e3f-bfe2-af7d80739ce4",
   "metadata": {},
   "source": [
    "**1. Iniziamo raccogliendo da Wikipedia le informazioni su Toy Story 3 e inserendole in un dizionario:**"
   ]
  },
  {
   "cell_type": "code",
   "execution_count": 3,
   "id": "2dcc0631-6ced-4566-8e13-e82a732a6fd0",
   "metadata": {},
   "outputs": [],
   "source": [
    "from bs4 import BeautifulSoup as bs\n",
    "import requests"
   ]
  },
  {
   "cell_type": "code",
   "execution_count": 4,
   "id": "de170436-49de-4260-b164-f8acc82bbc8d",
   "metadata": {},
   "outputs": [],
   "source": [
    "r = requests.get('https://en.wikipedia.org/wiki/Toy_Story_3')\n",
    "soup = bs(r.content)"
   ]
  },
  {
   "cell_type": "code",
   "execution_count": 5,
   "id": "5acd2cc4-ad3f-4056-9e13-3aea7c8da430",
   "metadata": {},
   "outputs": [],
   "source": [
    "def get_content_value(row_data):\n",
    "    if row_data.find('li'):\n",
    "        return[li.get_text(' ',strip=True).replace('\\xa0', '') for li in row_data.find_all('li')]\n",
    "    else:\n",
    "        return row_data.get_text(' ',strip=True).replace('\\xa0', '')"
   ]
  },
  {
   "cell_type": "code",
   "execution_count": 6,
   "id": "e83025ed-aa52-4887-92f1-3daad19638d1",
   "metadata": {},
   "outputs": [],
   "source": [
    "def dictionarize(soup):\n",
    "    infobox = soup.find('table', attrs={'class':'infobox vevent'})\n",
    "    inforows = infobox.find_all('tr')\n",
    "\n",
    "    movie_info = {}\n",
    "    for index, row in enumerate(inforows):\n",
    "        if index == 0:\n",
    "            movie_info['title'] = row.find('th').get_text()\n",
    "        elif index == 1:\n",
    "            continue\n",
    "        else:\n",
    "            if row.find('th') is None:\n",
    "                continue\n",
    "            else:\n",
    "                content_key = row.find('th').get_text(' ',strip=True)\n",
    "            if row.find('td') is None: \n",
    "                content_value = None\n",
    "            else:\n",
    "                content_value = get_content_value(row.find('td'))\n",
    "            movie_info[content_key] = content_value\n",
    "    return(movie_info)"
   ]
  },
  {
   "cell_type": "markdown",
   "id": "3627cc68-28b2-4f15-ad94-dc4b2136dafe",
   "metadata": {},
   "source": [
    "**2. Torniamo alla lista di film Disney**"
   ]
  },
  {
   "cell_type": "markdown",
   "id": "5891559a-a430-44bb-ab02-15d35e50a07f",
   "metadata": {},
   "source": [
    "Vogliamo creare una lista di dizionari, ognuno dei quali contenga info/statistiche su un particolare film."
   ]
  },
  {
   "cell_type": "code",
   "execution_count": 7,
   "id": "c50f129f-ccae-44bd-915d-ace09c11ec38",
   "metadata": {},
   "outputs": [],
   "source": [
    "page = bs(requests.get('https://en.wikipedia.org/wiki/List_of_Walt_Disney_Pictures_films').content)"
   ]
  },
  {
   "cell_type": "markdown",
   "id": "4f5876e7-b284-44f1-bec6-212fc86fa23b",
   "metadata": {},
   "source": [
    "Facciamolo per i film della prima tabella della pagina (ce ne saranno 9 in totale):"
   ]
  },
  {
   "cell_type": "code",
   "execution_count": 8,
   "id": "718f94a0-e4bf-4306-860e-6fc5525d39c4",
   "metadata": {},
   "outputs": [],
   "source": [
    "first_table = page.find_all('table')[0]"
   ]
  },
  {
   "cell_type": "code",
   "execution_count": 9,
   "id": "57e90c09-43cd-49c2-924d-17f2308364ec",
   "metadata": {},
   "outputs": [],
   "source": [
    "movie_links = [row.select('td i a')[0]['href'] for row in first_table.select('tr')[1:]]"
   ]
  },
  {
   "cell_type": "code",
   "execution_count": 149,
   "id": "b769f28e-3736-4c10-bc46-e31b38cb809f",
   "metadata": {},
   "outputs": [],
   "source": [
    "Movies = []\n",
    "for movie in movie_links:\n",
    "    link = 'https://en.wikipedia.org' + movie\n",
    "    soup = bs(requests.get(link).content)\n",
    "    Movies.append(dictionarize(soup))"
   ]
  },
  {
   "cell_type": "markdown",
   "id": "76a463eb-587a-46d9-adb9-d86af2801944",
   "metadata": {},
   "source": [
    "Ripetiamo il processo per tutte le tabelle contenenti i film già usciti (9 in totale):"
   ]
  },
  {
   "cell_type": "code",
   "execution_count": 213,
   "id": "4a9eea15-6919-49af-99bb-ac267bdb4275",
   "metadata": {},
   "outputs": [],
   "source": [
    "tables = page.find_all('table')[:9]"
   ]
  },
  {
   "cell_type": "code",
   "execution_count": 214,
   "id": "f8d7696c-9b54-40da-a046-46f35f32aa6a",
   "metadata": {},
   "outputs": [],
   "source": [
    "Movies = []\n",
    "for table in tables:\n",
    "    movie_links = []\n",
    "    for row in table.select('tr')[1:]:\n",
    "        if row.select('td i a') == []:\n",
    "            continue\n",
    "        else:\n",
    "            movie_links.append(row.select('td i a')[0]['href'])\n",
    "    for movie in movie_links:\n",
    "        link = 'https://en.wikipedia.org' + movie\n",
    "        soup = bs(requests.get(link).content)\n",
    "        Movies.append(dictionarize(soup))"
   ]
  },
  {
   "cell_type": "markdown",
   "id": "b2e27044-dcb7-4493-93a7-c117c2ac37ab",
   "metadata": {},
   "source": [
    "Salviamo i dati in un file json"
   ]
  },
  {
   "cell_type": "code",
   "execution_count": 10,
   "id": "d41c929f-9e61-48b6-abad-6ea51e6929cd",
   "metadata": {},
   "outputs": [],
   "source": [
    "import json\n",
    "\n",
    "def save_data(title, data):\n",
    "    with open(title, 'w', encoding='utf-8') as f:\n",
    "        json.dump(data, f, ensure_ascii=False, indent=2)\n",
    "\n",
    "def load_data(title):\n",
    "    with open(title, encoding='utf-8') as f:\n",
    "        return(json.load(f))"
   ]
  },
  {
   "cell_type": "code",
   "execution_count": 222,
   "id": "fef8afcc-fe32-4927-a1e4-dd7fd59479f5",
   "metadata": {},
   "outputs": [],
   "source": [
    "save_data('Disney_data.json', Movies)"
   ]
  },
  {
   "cell_type": "markdown",
   "id": "a50de276-6a1b-4e64-8514-06fd670ec1a7",
   "metadata": {},
   "source": [
    "**3. Pulizia dati**"
   ]
  },
  {
   "cell_type": "markdown",
   "id": "8258efa3-3ec2-46fc-bda0-31ba14ce53b1",
   "metadata": {},
   "source": [
    "- Ci sbarazziamo dei riferimenti a piè di pagina (come [1], [2]):"
   ]
  },
  {
   "cell_type": "code",
   "execution_count": 302,
   "id": "af5371f0-ff08-49f7-bad9-c779398c216c",
   "metadata": {},
   "outputs": [],
   "source": [
    "for movie in Movies:\n",
    "    for key, value in movie.copy().items():\n",
    "        if value is None:\n",
    "            del movie[key]"
   ]
  },
  {
   "cell_type": "code",
   "execution_count": 393,
   "id": "2e9da8d2-f646-4039-bacc-0d39b6a3bd67",
   "metadata": {},
   "outputs": [],
   "source": [
    "import re\n",
    "\n",
    "def remove_tags(string):\n",
    "    return re.sub(r'\\[.\\]', '',string).strip()\n",
    "for movie in Movies:\n",
    "    for key, value in list(movie.items()):\n",
    "        if type(value) is str:\n",
    "            movie[key] = remove_tags(value)\n",
    "        elif type(value) is list:\n",
    "            movie[key] = [remove_tags(item) for item in value]"
   ]
  },
  {
   "cell_type": "markdown",
   "id": "3754a35b-82c5-4b32-86c0-5e23cdb77c35",
   "metadata": {},
   "source": [
    "- Togliamo la data tra parentesi:"
   ]
  },
  {
   "cell_type": "code",
   "execution_count": 348,
   "id": "625a6349-f2a6-40f9-b5e4-4e07affdd547",
   "metadata": {},
   "outputs": [],
   "source": [
    "def drop_date(string):\n",
    "    return(re.split(r'[(|)]',string,2)[0] + re.split(r'[(|)]',string,2)[-1].strip())"
   ]
  },
  {
   "cell_type": "code",
   "execution_count": 391,
   "id": "a1d39072-5775-46c7-805b-44655f5f8707",
   "metadata": {},
   "outputs": [],
   "source": [
    "for movie in Movies:\n",
    "    for key, value in list(movie.items()):\n",
    "        if (key == 'Release date' or key == 'Release dates'):\n",
    "            if type(value) is str:\n",
    "                if value.count('(') >= 1:\n",
    "                    movie[key] = drop_date(value).strip()\n",
    "            if type(value) is list:\n",
    "                movie[key] = [drop_date(item).strip() for item in value if item.count('(') >=1]\n",
    "    "
   ]
  },
  {
   "cell_type": "code",
   "execution_count": 395,
   "id": "b039c598-4e88-43cd-8a84-167075bb04c1",
   "metadata": {},
   "outputs": [],
   "source": [
    "save_data('Disney_data.json', Movies)"
   ]
  },
  {
   "cell_type": "markdown",
   "id": "b42d294b-5edb-432e-a7ec-d0a8b00fdc6c",
   "metadata": {},
   "source": [
    "- Trasformiamo la durata in int:"
   ]
  },
  {
   "cell_type": "code",
   "execution_count": 470,
   "id": "16f1f023-894d-44e4-a673-0be318d68ef2",
   "metadata": {},
   "outputs": [],
   "source": [
    "for i, movie in enumerate(Movies):\n",
    "    if 'Running time' in list(movie.keys()):\n",
    "        if type(movie['Running time']) is str:\n",
    "            temp = int(re.split(r'\\D', movie['Running time'])[0])\n",
    "            movie['Running time'] = temp\n",
    "        elif type(movie['Running time']) is list:\n",
    "            temp = int(re.split(r'\\D', movie['Running time'][0])[0])\n",
    "            movie['Running time'] = temp"
   ]
  },
  {
   "cell_type": "code",
   "execution_count": 475,
   "id": "79765c8e-3fe9-41ba-a24a-f2584c054eeb",
   "metadata": {},
   "outputs": [],
   "source": [
    "save_data('Disney_data.json', Movies)"
   ]
  },
  {
   "cell_type": "markdown",
   "id": "f40509df-a566-4fdb-9b79-a5b699209da1",
   "metadata": {},
   "source": [
    "- Trasformiamo Bugdet e Box office in int o float:"
   ]
  },
  {
   "cell_type": "markdown",
   "id": "2e56bacb-c32e-4d72-b5e7-4a2d9c847a48",
   "metadata": {},
   "source": [
    "**Budget**"
   ]
  },
  {
   "cell_type": "code",
   "execution_count": 66,
   "id": "27b8120c-4e90-4e99-9200-8beaf796ce6b",
   "metadata": {},
   "outputs": [],
   "source": [
    "Movies = load_data('Disney_data.json')"
   ]
  },
  {
   "cell_type": "code",
   "execution_count": 499,
   "id": "6a5d23b9-a990-4011-9f11-a3e32e248eaf",
   "metadata": {},
   "outputs": [
    {
     "name": "stdout",
     "output_type": "stream",
     "text": [
      "40 under $1 million  or $1,250,000\n",
      "122 AU$1 million\n",
      "164 A$8.7 million\n",
      "172 60 million Norwegian Kroner (around $8.7 million in 1989)\n",
      "316 ¥ 2.4 billion US$24 million\n",
      "370 ¥ 3.4 billion ( US$ 34 million)\n",
      "390 ₹26 crore\n",
      "397 ['$410.6 million (gross)', '$378.5 million (net)']\n",
      "404 ['$306.6 million (gross)', '$263.7 million (net)']\n",
      "427 ₹ 23 crore (US$2.9million)\n",
      "437 ₹50 crore\n",
      "449 ₹ 70 crore (US$8.8million)\n",
      "456 ₹ 131 crore\n",
      "457 ~$8 million ₽ 370 million\n",
      "489 ₽650 million\n",
      "497 ₽454 million\n",
      "504 ~$70 million [nb 1]\n"
     ]
    }
   ],
   "source": [
    "for i, movie in enumerate(Movies):\n",
    "    if 'Budget' in list(movie.keys()) and movie['Budget'][0] != '$':\n",
    "        print(i, movie['Budget'])"
   ]
  },
  {
   "cell_type": "code",
   "execution_count": 67,
   "id": "b2bffbdb-4faf-4f46-955b-f917af0bfeaa",
   "metadata": {},
   "outputs": [],
   "source": [
    "Movies[40]['Budget'] = 1250000\n",
    "Movies[122]['Budget'] = 650000\n",
    "Movies[164]['Budget'] = 5630000\n",
    "Movies[172]['Budget'] = 8700000\n",
    "Movies[316]['Budget'] = 24000000\n",
    "Movies[370]['Budget'] = 34000000\n",
    "Movies[390]['Budget'] = 3130000\n",
    "Movies[397]['Budget'] = 378500000\n",
    "Movies[404]['Budget'] = 263700000\n",
    "Movies[427]['Budget'] = 2900000\n",
    "Movies[437]['Budget'] = 6020000\n",
    "Movies[449]['Budget'] = 8800000\n",
    "Movies[456]['Budget'] = 15800000\n",
    "Movies[457]['Budget'] = 8000000\n",
    "Movies[489]['Budget'] = 7140000\n",
    "Movies[497]['Budget'] = 4990000\n",
    "Movies[504]['Budget'] = 70000000"
   ]
  },
  {
   "cell_type": "code",
   "execution_count": 68,
   "id": "64b91c34-f2b1-4067-a810-9021747152b8",
   "metadata": {},
   "outputs": [],
   "source": [
    "for i, movie in enumerate(Movies):\n",
    "    if 'Budget' in list(movie.keys()):\n",
    "        if type(movie['Budget']) is str and 'million' in movie['Budget']:\n",
    "            temp = float(re.split(r'\\D',movie['Budget'][1:])[0])+float('0.'+re.split(r'\\D',movie['Budget'][1:])[1])\n",
    "            movie['Budget'] = round(temp*1000000)"
   ]
  },
  {
   "cell_type": "code",
   "execution_count": 78,
   "id": "20dcc3fc-87b2-4611-878e-7148373eb46b",
   "metadata": {},
   "outputs": [],
   "source": [
    "for i, movie in enumerate(Movies):\n",
    "    if 'Budget' in list(movie.keys()) and type(movie['Budget']) is str:\n",
    "        movie['Budget'] = int(re.sub(r'\\D','',movie['Budget']))"
   ]
  },
  {
   "cell_type": "code",
   "execution_count": 79,
   "id": "6a4ca959-b79b-4f2f-a58c-fe55d59652fd",
   "metadata": {},
   "outputs": [],
   "source": [
    "save_data('Disney_data.json', Movies)"
   ]
  },
  {
   "cell_type": "markdown",
   "id": "e353878c-ec64-49fb-9103-571d8d5b4e8a",
   "metadata": {},
   "source": [
    "**Box Office**"
   ]
  },
  {
   "cell_type": "code",
   "execution_count": 91,
   "id": "742eb14b-4a92-424c-8eb9-86aba47411a1",
   "metadata": {},
   "outputs": [],
   "source": [
    "Movies = load_data('Disney_data.json')"
   ]
  },
  {
   "cell_type": "code",
   "execution_count": 83,
   "id": "eb9721c9-3362-4e42-8d5e-42b160b063a5",
   "metadata": {},
   "outputs": [
    {
     "name": "stdout",
     "output_type": "stream",
     "text": [
      "4 >$1.3 million (est. United States/Canada rentals, 1941)\n",
      "17 ['$2.4 million (1951, domestic)', '$3.5 million (1974, domestic)']\n",
      "41 Original release : $2.6 million (est. US/ Canada rentals)  1969 re-release : $2.3 million  (US/ Canada rentals)\n",
      "68 est. $1,600,000 (US/ Canada)\n",
      "71 est. $3,500,000 (US/ Canada)\n",
      "165 >$121 million\n",
      "316 ¥ 23.2 billion US$236 million (worldwide)\n",
      "344 3 130 137\n",
      "370 US$ 204.8 million\n",
      "427 est. ₹ 79.43 crore (US$9.9million)\n",
      "437 est. ₹167crore\n",
      "449 ₹2,024 crore ( US$340 million )\n",
      "456 ₹ 86.85 crore\n",
      "489 ['₽2.046 billion', '$28.3 million (Worldwide)', '$28.6 million (Russia/ CIS )']\n",
      "497 ['₽2.196 billion', '$27 million']\n"
     ]
    }
   ],
   "source": [
    "for i, movie in enumerate(Movies):\n",
    "    if 'Box office' in list(movie.keys()) and movie['Box office'][0] != '$':\n",
    "        print(i, movie['Box office'])"
   ]
  },
  {
   "cell_type": "code",
   "execution_count": 93,
   "id": "b8463473-aedf-4c62-a711-5816082e51ae",
   "metadata": {},
   "outputs": [],
   "source": [
    "Movies[4]['Box office'] = Movies[4]['Box office'][1:]\n",
    "Movies[17]['Box office'] = '$2.4 million' \n",
    "Movies[41]['Box office'] = '$2.6 million'\n",
    "Movies[68]['Box office'] = '$1,600,000'\n",
    "Movies[71]['Box office'] = '$3,500,000'\n",
    "Movies[165]['Box office'] = Movies[165]['Box office'][1:]\n",
    "Movies[316]['Box office'] = '$236 million'\n",
    "Movies[344]['Box office'] = '$3130137'\n",
    "Movies[370]['Box office'] = '$204.8 million'\n",
    "Movies[427]['Box office'] = '$9.9 million'\n",
    "Movies[437]['Box office'] = '$20.1 million'\n",
    "Movies[449]['Box office'] = '$340 million'\n",
    "Movies[456]['Box office'] = '$10.36 million'\n",
    "Movies[489]['Box office'] = '$28.3 million'\n",
    "Movies[497]['Box office'] = '$27 million'"
   ]
  },
  {
   "cell_type": "code",
   "execution_count": 95,
   "id": "bd98915d-05ae-4d47-b26c-f6653eb91c12",
   "metadata": {},
   "outputs": [],
   "source": [
    "for i, movie in enumerate(Movies):\n",
    "    try:\n",
    "        if 'Box office' in list(movie.keys()):\n",
    "            if type(movie['Box office']) is str and 'million' in movie['Box office']:\n",
    "                temp = float(re.split(r'\\D',movie['Box office'][1:])[0])+float('0.'+re.split(r'\\D',movie['Box office'][1:])[1])\n",
    "                movie['Box office'] = round(temp*1000000)\n",
    "    except Exception as e:\n",
    "        print(i,e)"
   ]
  },
  {
   "cell_type": "code",
   "execution_count": 99,
   "id": "71224933-a1b0-4884-9235-303be8282f81",
   "metadata": {},
   "outputs": [],
   "source": [
    "for i, movie in enumerate(Movies):\n",
    "    try:\n",
    "        if 'Box office' in list(movie.keys()):\n",
    "            if type(movie['Box office']) is str and 'billion' in movie['Box office']:\n",
    "                temp = float(re.split(r'\\D',movie['Box office'][1:])[0])+float('0.'+re.split(r'\\D',movie['Box office'][1:])[1])\n",
    "                movie['Box office'] = round(temp*1000000000)\n",
    "    except Exception as e:\n",
    "        print(i,e)"
   ]
  },
  {
   "cell_type": "code",
   "execution_count": 100,
   "id": "95fba294-c22c-4904-ab6e-ba10be7a0c0d",
   "metadata": {},
   "outputs": [],
   "source": [
    "save_data('Disney_data.json', Movies)"
   ]
  }
 ],
 "metadata": {
  "kernelspec": {
   "display_name": "Python 3 (ipykernel)",
   "language": "python",
   "name": "python3"
  },
  "language_info": {
   "codemirror_mode": {
    "name": "ipython",
    "version": 3
   },
   "file_extension": ".py",
   "mimetype": "text/x-python",
   "name": "python",
   "nbconvert_exporter": "python",
   "pygments_lexer": "ipython3",
   "version": "3.12.0"
  }
 },
 "nbformat": 4,
 "nbformat_minor": 5
}
